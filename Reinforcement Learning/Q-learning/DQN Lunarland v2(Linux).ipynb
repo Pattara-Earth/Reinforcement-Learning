{
 "cells": [
  {
   "cell_type": "markdown",
   "metadata": {},
   "source": [
    "# One Neural Network"
   ]
  },
  {
   "cell_type": "code",
   "execution_count": 57,
   "metadata": {},
   "outputs": [],
   "source": [
    "import gym\n",
    "import numpy as np\n",
    "import pandas as pd\n",
    "import random\n",
    "import matplotlib.pyplot as plt\n",
    "from keras.models import Sequential\n",
    "from keras.layers import InputLayer, Dense\n",
    "from keras import optimizers\n",
    "from collections import deque \n",
    "\n",
    "class DQNAgent():\n",
    "    \n",
    "    def __init__(self, state_space, action_space):\n",
    "        self.state_space = state_space\n",
    "        self.action_space = action_space\n",
    "        \n",
    "        self.learning_rate = 0.001\n",
    "        self.discount_factor = 0.99\n",
    "        self.epsilon = 0.1\n",
    "        self.epsilon_decay_factor = 0.999\n",
    "        \n",
    "        self.memory = deque(maxlen=2000)  \n",
    "        self.batch_size = 32\n",
    "        \n",
    "        self.model = self.build_model()\n",
    "    \n",
    "    def save_sample(self, state, action, reward, next_state, done):\n",
    "        self.memory.append((state, action, reward, next_state, done))\n",
    "        \n",
    "        \n",
    "    def build_model(self):\n",
    "        model = Sequential()\n",
    "        model.add(Dense(64, input_dim=self.state_space, activation='relu'))\n",
    "        model.add(Dense(64, activation='relu'))\n",
    "        model.add(Dense(64, activation='relu'))\n",
    "        model.add(Dense(units=self.action_space, activation='linear'))\n",
    "        model.summary()\n",
    "        model.compile(loss='mse', optimizer=optimizers.Adam(lr=self.learning_rate))\n",
    "        return model\n",
    "    \n",
    "    def get_action(self, state):\n",
    "        optimal_action = np.argmax(self.model.predict(state)[0])\n",
    "        random_action = random.randint(0, self.action_space - 1)\n",
    "        action = np.random.choice([optimal_action, random_action], p=[1 - self.epsilon, self.epsilon])\n",
    "        return action\n",
    "    \n",
    "    def train_model(self):\n",
    "        if len(self.memory) >= self.batch_size:\n",
    "            mini_batch = random.sample(self.memory, self.batch_size)\n",
    "            \n",
    "            state = np.zeros((self.batch_size, self.state_size))\n",
    "            next_state = np.zeros((self.batch_size, self.state_size))\n",
    "            action, reward, done = np.empty([self.batch_size]), np.empty([self.batch_size]), np.empty([self.batch_size])\n",
    "\n",
    "            for i in range(self.batch_size):\n",
    "                state[i] = mini_batch[i][0]\n",
    "                action[i] = mini_batch[i][1]\n",
    "                reward[i] = mini_batch[i][2]\n",
    "                next_state[i] = mini_batch[i][3]\n",
    "                done[i] = mini_batch[i][4]\n",
    "                \n",
    "            target = reward + self.discount_factor * np.max(self.model.predict(next_state),axis=1) * (np.ones(self.batch_size) - done)\n",
    "            \n",
    "            self.model.fit(state, target, epochs=1, verbose=0)\n",
    "\n",
    "        self.epsilon *= self.epsilon_decay_factor\n",
    "\n",
    "if __name__ == \"__main__\":\n",
    "\n",
    "    env = gym.make('LunarLander-v2')\n",
    "    agent = DQNAgent(env.observation_space.shape[0], env.action_space.n)\n",
    "    number_of_episodes = \n",
    "    total_reward = np.zeros(number_of_episodes)\n",
    "    freq = 4\n",
    "\n",
    "    for i in range(number_of_episodes):\n",
    "        state = env.reset()\n",
    "        state = np.reshape(state, [1,env.observation_space.shape[0]])\n",
    "           \n",
    "        while True:\n",
    "            env.render()\n",
    "           \n",
    "            action = agent.get_action(state)\n",
    "            next_state, reward, done, _ = env.step(action)\n",
    "            next_state = np.reshape(next_state, [1,env.observation_space.shape[0]])\n",
    "                            \n",
    "            agent.save_sample(state, action, reward, next_state, done)\n",
    "                \n",
    "            if i % freq == 0:\n",
    "                agent.train_model()\n",
    "            \n",
    "            state = next_state\n",
    "            total_reward[i] += reward\n",
    "\n",
    "            if done:\n",
    "                \n",
    "                env.render()\n",
    "                print(\"Episode {} \".format(i+1))\n",
    "                \n",
    "                break\n",
    "          \n",
    "    plt.plot(total_reward)\n",
    "    plt.xlabel('Episode')\n",
    "    plt.ylabel('Total Reward')\n",
    "    plt.title('Performance',fontsize=18)\n",
    "    plt.show()\n",
    "    env.close()\n",
    "\n",
    "        "
   ]
  },
  {
   "cell_type": "markdown",
   "metadata": {},
   "source": [
    "# Target Network"
   ]
  },
  {
   "cell_type": "code",
   "execution_count": 25,
   "metadata": {},
   "outputs": [
    {
     "name": "stderr",
     "output_type": "stream",
     "text": [
      "[2021-01-14 14:20:24,635] Making new env: LunarLander-v2\n"
     ]
    },
    {
     "name": "stdout",
     "output_type": "stream",
     "text": [
      "Model: \"sequential_15\"\n",
      "_________________________________________________________________\n",
      "Layer (type)                 Output Shape              Param #   \n",
      "=================================================================\n",
      "dense_63 (Dense)             (None, 100)               900       \n",
      "_________________________________________________________________\n",
      "dense_64 (Dense)             (None, 100)               10100     \n",
      "_________________________________________________________________\n",
      "dense_65 (Dense)             (None, 100)               10100     \n",
      "_________________________________________________________________\n",
      "dense_66 (Dense)             (None, 4)                 404       \n",
      "=================================================================\n",
      "Total params: 21,504\n",
      "Trainable params: 21,504\n",
      "Non-trainable params: 0\n",
      "_________________________________________________________________\n",
      "Model: \"sequential_16\"\n",
      "_________________________________________________________________\n",
      "Layer (type)                 Output Shape              Param #   \n",
      "=================================================================\n",
      "dense_67 (Dense)             (None, 100)               900       \n",
      "_________________________________________________________________\n",
      "dense_68 (Dense)             (None, 100)               10100     \n",
      "_________________________________________________________________\n",
      "dense_69 (Dense)             (None, 100)               10100     \n",
      "_________________________________________________________________\n",
      "dense_70 (Dense)             (None, 4)                 404       \n",
      "=================================================================\n",
      "Total params: 21,504\n",
      "Trainable params: 21,504\n",
      "Non-trainable params: 0\n",
      "_________________________________________________________________\n",
      "1/1 [==============================] - 0s 2ms/step - loss: 4.9536\n",
      "Episode:1, Reward:-163.87402551283463 \n",
      "1/1 [==============================] - 0s 1ms/step - loss: 6.2448\n",
      "Episode:2, Reward:-389.6135292122094 \n",
      "1/1 [==============================] - 0s 2ms/step - loss: 9.9369\n",
      "Episode:3, Reward:-178.28342874230165 \n",
      "1/1 [==============================] - 0s 1ms/step - loss: 14.4773\n",
      "Episode:4, Reward:-124.88361994302642 \n",
      "1/1 [==============================] - 0s 2ms/step - loss: 4.0744\n",
      "Episode:5, Reward:-445.32108316715244 \n"
     ]
    },
    {
     "data": {
      "image/png": "[encoded data removed]",
      "text/plain": [
       "<Figure size 432x288 with 1 Axes>"
      ]
     },
     "metadata": {
      "needs_background": "light"
     },
     "output_type": "display_data"
    }
   ],
   "source": [
    "import gym\n",
    "import numpy as np\n",
    "import pandas as pd\n",
    "import random\n",
    "import matplotlib.pyplot as plt\n",
    "from keras.models import Sequential\n",
    "from keras.layers import InputLayer, Dense\n",
    "from keras import optimizers\n",
    "from collections import deque\n",
    "\n",
    "class DQNAgent():\n",
    "\n",
    "    def __init__(self, state_size, action_size):\n",
    "        self.state_size = state_size  \n",
    "        self.action_size = action_size  \n",
    "\n",
    "        self.discount_factor = 0.99\n",
    "        self.learning_rate = 0.001\n",
    "        self.epsilon = 1.0\n",
    "        self.epsilon_decay_factor = 0.999\n",
    "        self.epsilon_min = 0.01\n",
    "\n",
    "        # Experience Replay technic คนละ Weight\n",
    "        self.model = self.build_model()  # ใช้หา 1.Optimal action ในแต่ละ timestep, 2.ใช้คำนวน Q(s,a) ใน loss function\n",
    "        self.target_model = self.build_model()  # Target model ใช้คำนวน (r + gamma * maxQ(s',a))\n",
    "\n",
    "        self.update_target_model()\n",
    "\n",
    "        self.memory = deque(maxlen=10000)  # memory for train\n",
    "        self.batch_size = 64\n",
    "\n",
    "    def update_target_model(self):\n",
    "        self.target_model.set_weights(self.model.get_weights())\n",
    "\n",
    "    def get_action(self, state):\n",
    "        optimal_action = np.argmax(self.model.predict(state)[0])\n",
    "        random_action = random.randint(0, self.action_size - 1)\n",
    "        action = np.random.choice([optimal_action, random_action], p=[1 - self.epsilon, self.epsilon])\n",
    "        return action\n",
    "\n",
    "    def build_model(self):\n",
    "        model = Sequential()\n",
    "        model.add(Dense(100, input_dim=self.state_size, activation='relu'))\n",
    "        model.add(Dense(100, activation='relu'))\n",
    "        model.add(Dense(100, activation='relu'))\n",
    "        model.add(Dense(units=self.action_size, activation='linear'))\n",
    "        model.summary()\n",
    "        model.compile(loss='mse', optimizer=optimizers.Adam(lr=self.learning_rate))\n",
    "        return model\n",
    "\n",
    "    def save_sample(self, state, action, reward, next_state, done):\n",
    "        self.memory.append((state, action, reward, next_state, done))\n",
    "        if self.epsilon > self.epsilon_min:\n",
    "            self.epsilon *= self.epsilon_decay_factor\n",
    "\n",
    "    def train_model(self):\n",
    "        if len(self.memory) >= self.batch_size:\n",
    "            mini_batch = random.sample(self.memory, self.batch_size)  # random sample for cut correlation\n",
    "\n",
    "            update_state = np.zeros((self.batch_size, self.state_size))\n",
    "            update_next_state = np.zeros((self.batch_size, self.state_size))\n",
    "            action, reward, done = np.empty([self.batch_size]), np.empty([self.batch_size]), np.empty([self.batch_size])\n",
    "\n",
    "            for i in range(self.batch_size):\n",
    "                update_state[i] = mini_batch[i][0]\n",
    "                action[i] = mini_batch[i][1]\n",
    "                reward[i] = mini_batch[i][2]\n",
    "                update_next_state[i] = mini_batch[i][3]\n",
    "                done[i] = mini_batch[i][4]\n",
    "                \n",
    "            q_next = self.target_model.predict(update_next_state)\n",
    "            q_current = self.model.predict(update_state)\n",
    "            \n",
    "            for i in range(self.batch_size):\n",
    "                if done[i]:\n",
    "                    q_current[i][action.astype(int)[i]] = reward[i]\n",
    "                else:\n",
    "                    q_current[i][action.astype(int)[i]] = reward[i] + self.discount_factor * (np.amax(q_next[i]))\n",
    "\n",
    "            self.model.fit(update_state, q_current, epochs=1, verbose=0)\n",
    "    def evaluate(self):\n",
    "        n_sample = 10\n",
    "        sample = random.sample(self.memory, n_sample)\n",
    "\n",
    "        state = np.zeros((n_sample, self.state_size))\n",
    "        next_state = np.zeros((n_sample, self.state_size))\n",
    "        action, reward, done = np.empty([n_sample]), np.empty([n_sample]), np.empty([n_sample])\n",
    "\n",
    "        for i in range(n_sample):\n",
    "            state[i] = sample[i][0]\n",
    "            action[i] = sample[i][1]\n",
    "            reward[i] = sample[i][2]\n",
    "            next_state[i] = sample[i][3]\n",
    "            done[i] = sample[i][4]\n",
    "\n",
    "        target = reward + self.discount_factor * np.max(self.target_model.predict(next_state), axis=1) * (np.ones(n_sample) - done)\n",
    "        loss = self.model.evaluate(state, target)\n",
    "        \n",
    "        return loss\n",
    "        \n",
    "        \n",
    "if __name__ == \"__main__\":\n",
    "\n",
    "    env = gym.make('LunarLander-v2')\n",
    "    agent = DQNAgent(env.observation_space.shape[0], env.action_space.n)\n",
    "    number_of_episodes = 5\n",
    "    total_reward = np.zeros(number_of_episodes)\n",
    "    loss = np.zeros(number_of_episodes)\n",
    "    freq = 4\n",
    "    \n",
    "    \n",
    "\n",
    "    for i in range(number_of_episodes):\n",
    "        count = 0\n",
    "        state = env.reset()\n",
    "        state = np.reshape(state, [1,env.observation_space.shape[0]])\n",
    "           \n",
    "        while True:\n",
    "            count += 1\n",
    "            \n",
    "            env.render()\n",
    "           \n",
    "            action = agent.get_action(state)\n",
    "            next_state, reward, done, _ = env.step(action)\n",
    "            next_state = np.reshape(next_state, [1,env.observation_space.shape[0]])\n",
    "                            \n",
    "            agent.save_sample(state, action, reward, next_state, done)\n",
    "                \n",
    "            if count % freq == 0:\n",
    "                agent.train_model()\n",
    "            \n",
    "            state = next_state\n",
    "            total_reward[i] += reward\n",
    "\n",
    "            if done:\n",
    "                env.render()\n",
    "                agent.update_target_model()\n",
    "                loss[i] = agent.evaluate()\n",
    "                \n",
    "                text_file = open(\"text.txt\", \"a\") \n",
    "                text_file.write('{}\\n{}\\n'.format(total_reward[i], loss[i]))\n",
    "                text_file.close()\n",
    "                \n",
    "                print(\"Episode:{}, Reward:{} \".format(i+1, total_reward[i]))\n",
    "                \n",
    "                break\n",
    "          \n",
    "    plt.plot(total_reward)\n",
    "    plt.xlabel('Episode')\n",
    "    plt.ylabel('Total Reward')\n",
    "    plt.title('Performance',fontsize=18)\n",
    "    plt.show()\n",
    "    env.close()"
   ]
  },
  {
   "cell_type": "code",
   "execution_count": 27,
   "metadata": {},
   "outputs": [
    {
     "data": {
      "text/plain": [
       "493"
      ]
     },
     "execution_count": 27,
     "metadata": {},
     "output_type": "execute_result"
    }
   ],
   "source": [
    "len(agent.memory)"
   ]
  },
  {
   "cell_type": "code",
   "execution_count": 37,
   "metadata": {},
   "outputs": [],
   "source": [
    "mini_batch = random.sample(agent.memory, 10)\n",
    "\n",
    "update_state = np.zeros((10, 8))\n",
    "update_next_state = np.zeros((10, 8))\n",
    "action, reward, done = np.empty([10]), np.empty([10]), np.empty([10])\n",
    "\n",
    "for i in range(10):\n",
    "    update_state[i] = mini_batch[i][0]\n",
    "    action[i] = mini_batch[i][1]\n",
    "    reward[i] = mini_batch[i][2]\n",
    "    update_next_state[i] = mini_batch[i][3]\n",
    "    done[i] = mini_batch[i][4]"
   ]
  },
  {
   "cell_type": "code",
   "execution_count": 42,
   "metadata": {},
   "outputs": [
    {
     "data": {
      "text/plain": [
       "array([[-7.77944028e-01, -4.77170438e-01,  4.79549646e-01,\n",
       "         2.88687758e-02],\n",
       "       [-4.47368145e+00, -4.33027792e+00, -2.61123157e+00,\n",
       "        -5.50819445e+00],\n",
       "       [-8.52048814e-01, -5.31866550e-01,  4.95877147e-01,\n",
       "        -1.51146606e-01],\n",
       "       [-1.27710128e+00, -9.94715691e-01,  5.97776592e-01,\n",
       "        -1.20399952e+00],\n",
       "       [-1.29534006e+00, -1.04659224e+00,  6.36806071e-01,\n",
       "        -1.20296431e+00],\n",
       "       [-1.08588326e+02, -1.07562897e+02, -7.21214066e+01,\n",
       "        -1.82367725e+01],\n",
       "       [-5.40658617e+00, -5.21961832e+00, -6.23760891e+00,\n",
       "        -7.69423199e+00],\n",
       "       [-9.31080341e+00, -9.62085056e+00, -1.22150946e+01,\n",
       "        -1.12941437e+01],\n",
       "       [-6.85214949e+00, -8.27054501e+00, -1.83044326e+00,\n",
       "         6.09834015e-01],\n",
       "       [-1.14530218e+00, -8.55235457e-01,  4.67283458e-01,\n",
       "        -1.11156750e+00]], dtype=float32)"
      ]
     },
     "execution_count": 42,
     "metadata": {},
     "output_type": "execute_result"
    }
   ],
   "source": [
    "agent.model.predict(update_state)"
   ]
  },
  {
   "cell_type": "code",
   "execution_count": 43,
   "metadata": {},
   "outputs": [
    {
     "data": {
      "text/plain": [
       "array([  0.47954965,  -2.6112316 ,   0.49587715,   0.5977766 ,\n",
       "         0.6368061 , -18.236773  ,  -5.2196183 ,  -9.310803  ,\n",
       "         0.609834  ,   0.46728346], dtype=float32)"
      ]
     },
     "execution_count": 43,
     "metadata": {},
     "output_type": "execute_result"
    }
   ],
   "source": [
    "np.max(agent.model.predict(update_state),axis=1) "
   ]
  },
  {
   "cell_type": "code",
   "execution_count": 45,
   "metadata": {},
   "outputs": [
    {
     "data": {
      "text/plain": [
       "array([  -3.65668311,    0.32775947,   -1.76536959,   -2.80332887,\n",
       "          0.10513322, -100.        ,   -2.2345105 ,   -4.75365664,\n",
       "         -1.07360428,   -2.039778  ])"
      ]
     },
     "execution_count": 45,
     "metadata": {},
     "output_type": "execute_result"
    }
   ],
   "source": [
    "reward"
   ]
  },
  {
   "cell_type": "code",
   "execution_count": 47,
   "metadata": {},
   "outputs": [
    {
     "data": {
      "text/plain": [
       "array([  -3.17713346,   -2.28347209,   -1.26949244,   -2.20555228,\n",
       "          0.74193929, -118.23677254,   -7.45412882,  -14.06446005,\n",
       "         -0.46377026,   -1.57249454])"
      ]
     },
     "execution_count": 47,
     "metadata": {},
     "output_type": "execute_result"
    }
   ],
   "source": [
    "np.max(agent.model.predict(update_state),axis=1) + reward "
   ]
  },
  {
   "cell_type": "code",
   "execution_count": null,
   "metadata": {},
   "outputs": [],
   "source": []
  }
 ],
 "metadata": {
  "kernelspec": {
   "display_name": "Python 3",
   "language": "python",
   "name": "python3"
  },
  "language_info": {
   "codemirror_mode": {
    "name": "ipython",
    "version": 3
   },
   "file_extension": ".py",
   "mimetype": "text/x-python",
   "name": "python",
   "nbconvert_exporter": "python",
   "pygments_lexer": "ipython3",
   "version": "3.8.5"
  }
 },
 "nbformat": 4,
 "nbformat_minor": 4
}
